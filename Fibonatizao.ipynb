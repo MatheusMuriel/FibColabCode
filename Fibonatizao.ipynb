{
  "nbformat": 4,
  "nbformat_minor": 0,
  "metadata": {
    "colab": {
      "name": "Fibonatizao.ipynb",
      "provenance": [],
      "collapsed_sections": [],
      "machine_shape": "hm",
      "include_colab_link": true
    },
    "kernelspec": {
      "name": "python3",
      "display_name": "Python 3"
    },
    "accelerator": "GPU"
  },
  "cells": [
    {
      "cell_type": "markdown",
      "metadata": {
        "id": "view-in-github",
        "colab_type": "text"
      },
      "source": [
        "<a href=\"https://colab.research.google.com/github/MatheusMuriel/FibColabCode/blob/master/Fibonatizao.ipynb\" target=\"_parent\"><img src=\"https://colab.research.google.com/assets/colab-badge.svg\" alt=\"Open In Colab\"/></a>"
      ]
    },
    {
      "cell_type": "code",
      "metadata": {
        "id": "K3KHs-FHfUW3",
        "colab_type": "code",
        "cellView": "code",
        "colab": {}
      },
      "source": [
        "\n",
        "class Cerebro():\n",
        "\n",
        "  def __init__(self, limite, taxa_de_limpeza):\n",
        "    self.memoria = {}\n",
        "    self.usos = {}\n",
        "    self.limite = limite\n",
        "    self.taxa_de_limpeza = taxa_de_limpeza\n",
        "\n",
        "  def nova_memoria(self, nome, valor):\n",
        "    nome = str(nome)\n",
        "    valor = int(valor)\n",
        "    if (len(self.memoria) >= self.limite):\n",
        "      self.limpar_memoria(nome)\n",
        "    self.memoria[nome] = valor\n",
        "    self.usos[nome] = 1\n",
        "\n",
        "  def get_lembranca(self, nome):\n",
        "    if (nome in self.memoria):\n",
        "      self.usos[nome] += 1\n",
        "      return self.memoria[nome]\n",
        "    else:\n",
        "      return -1\n",
        "\n",
        "  def limpar_memoria(self, iteracao_atual):\n",
        "    print(\"Chamada de limpeza na iteração\", iteracao_atual)\n",
        "    while(len(self.memoria) > self.limite*(self.taxa_de_limpeza)):\n",
        "      menor_registro = min(self.usos.items(), key=lambda x: x[1])\n",
        "\n",
        "      self.memoria.pop(menor_registro[0])\n",
        "      self.usos.pop(menor_registro[0])"
      ],
      "execution_count": 0,
      "outputs": []
    },
    {
      "cell_type": "code",
      "metadata": {
        "id": "EKfTCCAwiX1u",
        "colab_type": "code",
        "colab": {}
      },
      "source": [
        "class Resultado():\n",
        "    def __init__(self, tempo_inicial, tempo_final, algoritimo, n, resultado):\n",
        "        self.tempo_inicial = tempo_inicial\n",
        "        self.tempo_final = tempo_final\n",
        "        self.algoritimo = algoritimo\n",
        "        self.n = n\n",
        "        self.resultado = resultado\n",
        "        #self.tempo_execucao = (self.tempo_final - self.tempo_inicial) / (10 ** 9)\n",
        "        self.tempo_execucao = (self.tempo_final - self.tempo_inicial)\n",
        "\n",
        "    def get_tempo(self):\n",
        "        return \"{:f}\".format(self.tempo_execucao)\n",
        "\n",
        "    def __str__(self):\n",
        "        string_of_object = '{}({}) = {} :: => {} segundos'.format(self.algoritimo, self.n, self.resultado, str(self.get_tempo()))\n",
        "        return string_of_object"
      ],
      "execution_count": 0,
      "outputs": []
    },
    {
      "cell_type": "code",
      "metadata": {
        "id": "DCN2vncxffVX",
        "colab_type": "code",
        "colab": {}
      },
      "source": [
        "\n",
        "class IterativoMemorization():\n",
        "  def __init__(self):\n",
        "    LIMITE = 600000\n",
        "    TAXA_LIMPEZA = 0.7\n",
        "    self.memoria = Cerebro(LIMITE, TAXA_LIMPEZA)\n",
        "\n",
        "  def calcular(self, n):\n",
        "    valor_final = 0\n",
        "\n",
        "    for i in range(2, n+1):\n",
        "      str_n1 = str(i-1)\n",
        "      str_n2 = str(i-2)\n",
        "      str_n3 = str((i-1)+(i-2))\n",
        "      n_1 = self.memoria.get_lembranca(str_n1)\n",
        "      n_2 = self.memoria.get_lembranca(str_n2)\n",
        "\n",
        "      if (n_1 == -1 and (i-1) > 1):\n",
        "        n_1 = self.calc_fib(i-1)\n",
        "        #print(\"fib({})={}\".format(str_n1, n_1))\n",
        "        self.memoria.nova_memoria(str_n1, n_1)\n",
        "\n",
        "      elif (n_2 == -1 and (i-2) > 1):\n",
        "        n_2 = self.calc_fib(i-2)\n",
        "        self.memoria.nova_memoria(str_n2, n_2)\n",
        "\n",
        "      if( i > 3):\n",
        "        n_3 = n_1 + n_2\n",
        "        #print (\"FIB({}) :: fib({})={} + fib({})={}     = {}\".format(str_n3, (i-1), n_1, (i-2), n_2, n_3))\n",
        "        self.memoria.nova_memoria(i, n_3)\n",
        "        valor_final = n_3\n",
        "\n",
        "    return valor_final\n",
        "\n",
        "  def calc_fib(self, n):\n",
        "      if n == 0: return 0\n",
        "      if n == 1: return 1\n",
        "\n",
        "      str_n1 = str(n-1)\n",
        "      str_n2 = str(n-2)\n",
        "      n_1 = self.memoria.get_lembranca(str_n1)\n",
        "      n_2 = self.memoria.get_lembranca(str_n2)\n",
        "\n",
        "      if (n_1 == -1):\n",
        "        n_1 = self.calc_fib_it(n-1)\n",
        "        self.memoria.nova_memoria(str_n1, n_1)\n",
        "\n",
        "      if (n_2 == -1):\n",
        "        n_2 = self.calc_fib_it(n-2)\n",
        "        self.memoria.nova_memoria(str_n2, n_2)\n",
        "      \n",
        "      return n_1 + n_2\n",
        "\n",
        "  def calc_fib_it(self, n):\n",
        "    if (n <= 2):\n",
        "      return 1\n",
        "\n",
        "    fib1 = 1\n",
        "    fib2 = 1\n",
        "    for i in range(2, n+1):\n",
        "      fib3 = fib1 + fib2\n",
        "      fib1 = fib2\n",
        "      fib2 = fib3\n",
        "\n",
        "    return fib1\n",
        "\n",
        "  def get_funcao_calc(self):\n",
        "      return lambda n: self.calcular(n)\n",
        "\n",
        "  def __str__(self):\n",
        "    return \"Iterativo puro + Memoization\""
      ],
      "execution_count": 0,
      "outputs": []
    },
    {
      "cell_type": "code",
      "metadata": {
        "id": "fqjYTNIXf6-i",
        "colab_type": "code",
        "outputId": "da535d26-a9f3-4ed2-8a03-bf3a02afbf17",
        "colab": {
          "base_uri": "https://localhost:8080/",
          "height": 36
        }
      },
      "source": [
        "import time\n",
        "\n",
        "def executa_algoritmo_bench(nome_algoritmo, funcao_calc, valor):\n",
        "\n",
        "    tempo_inicial = time.time()\n",
        "\n",
        "    resultado_funcao = funcao_calc(valor)\n",
        "\n",
        "    tempo_final = time.time()\n",
        "\n",
        "    return Resultado(tempo_inicial, tempo_final, nome_algoritmo, valor, resultado_funcao)\n",
        "\n",
        "\n",
        "codigo = IterativoMemorization()\n",
        "algoritmo = codigo.get_funcao_calc()\n",
        "valor = 800000\n",
        "\n",
        "resultado = executa_algoritmo_bench(codigo, algoritmo, valor) \n",
        "\n",
        "print (resultado)\n",
        "\n",
        "detalhes_execucao = \"\\nFib({})\\nAlgoritmo :: {}\\nTempo :: {}\".format(valor, codigo, resultado.get_tempo())\n",
        "print(detalhes_execucao)\n"
      ],
      "execution_count": 0,
      "outputs": [
        {
          "output_type": "stream",
          "text": [
            "Chamada de limpeza na iteração 600000\n"
          ],
          "name": "stdout"
        }
      ]
    }
  ]
}